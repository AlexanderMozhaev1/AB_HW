{
 "cells": [
  {
   "cell_type": "code",
   "execution_count": 1,
   "metadata": {},
   "outputs": [],
   "source": [
    "import numpy as np\n",
    "import scipy\n",
    "import matplotlib.pyplot as plt\n",
    "import scipy.stats\n",
    "import statsmodels\n",
    "import statsmodels.sandbox.stats.multicomp\n",
    "import pandas as pd\n",
    "import seaborn as sns\n",
    "from sklearn.utils import shuffle"
   ]
  },
  {
   "cell_type": "code",
   "execution_count": 3,
   "metadata": {},
   "outputs": [],
   "source": [
    "df = pd.read_csv('df_hw.csv')"
   ]
  },
  {
   "cell_type": "markdown",
   "metadata": {},
   "source": [
    "#### Если магазин офлайн, то мы не можем предлагать покупателям товары по разным ценам одновременно, не можем же мы написать, если у вас карточка с четным айдишником вам дороже, значит нужно менять ценики каждый день, рабиваем выборку на четные и нечетные дни"
   ]
  },
  {
   "cell_type": "code",
   "execution_count": 8,
   "metadata": {},
   "outputs": [
    {
     "data": {
      "text/html": [
       "<div>\n",
       "<style scoped>\n",
       "    .dataframe tbody tr th:only-of-type {\n",
       "        vertical-align: middle;\n",
       "    }\n",
       "\n",
       "    .dataframe tbody tr th {\n",
       "        vertical-align: top;\n",
       "    }\n",
       "\n",
       "    .dataframe thead th {\n",
       "        text-align: right;\n",
       "    }\n",
       "</style>\n",
       "<table border=\"1\" class=\"dataframe\">\n",
       "  <thead>\n",
       "    <tr style=\"text-align: right;\">\n",
       "      <th></th>\n",
       "      <th>Unnamed: 0</th>\n",
       "      <th>user_id</th>\n",
       "      <th>metric</th>\n",
       "      <th>day</th>\n",
       "    </tr>\n",
       "  </thead>\n",
       "  <tbody>\n",
       "    <tr>\n",
       "      <th>2</th>\n",
       "      <td>2995</td>\n",
       "      <td>2995</td>\n",
       "      <td>6742.954000</td>\n",
       "      <td>5</td>\n",
       "    </tr>\n",
       "    <tr>\n",
       "      <th>3</th>\n",
       "      <td>15885</td>\n",
       "      <td>5885</td>\n",
       "      <td>8998.112105</td>\n",
       "      <td>15</td>\n",
       "    </tr>\n",
       "    <tr>\n",
       "      <th>4</th>\n",
       "      <td>6121</td>\n",
       "      <td>6121</td>\n",
       "      <td>2281.206200</td>\n",
       "      <td>1</td>\n",
       "    </tr>\n",
       "    <tr>\n",
       "      <th>5</th>\n",
       "      <td>7677</td>\n",
       "      <td>7677</td>\n",
       "      <td>8589.278300</td>\n",
       "      <td>7</td>\n",
       "    </tr>\n",
       "    <tr>\n",
       "      <th>6</th>\n",
       "      <td>3539</td>\n",
       "      <td>3539</td>\n",
       "      <td>3959.062100</td>\n",
       "      <td>9</td>\n",
       "    </tr>\n",
       "    <tr>\n",
       "      <th>...</th>\n",
       "      <td>...</td>\n",
       "      <td>...</td>\n",
       "      <td>...</td>\n",
       "      <td>...</td>\n",
       "    </tr>\n",
       "    <tr>\n",
       "      <th>19991</th>\n",
       "      <td>2455</td>\n",
       "      <td>2455</td>\n",
       "      <td>4327.163100</td>\n",
       "      <td>5</td>\n",
       "    </tr>\n",
       "    <tr>\n",
       "      <th>19994</th>\n",
       "      <td>4113</td>\n",
       "      <td>4113</td>\n",
       "      <td>5359.062900</td>\n",
       "      <td>3</td>\n",
       "    </tr>\n",
       "    <tr>\n",
       "      <th>19995</th>\n",
       "      <td>14257</td>\n",
       "      <td>4257</td>\n",
       "      <td>6853.369866</td>\n",
       "      <td>17</td>\n",
       "    </tr>\n",
       "    <tr>\n",
       "      <th>19997</th>\n",
       "      <td>10317</td>\n",
       "      <td>317</td>\n",
       "      <td>5002.546357</td>\n",
       "      <td>17</td>\n",
       "    </tr>\n",
       "    <tr>\n",
       "      <th>19998</th>\n",
       "      <td>8303</td>\n",
       "      <td>8303</td>\n",
       "      <td>1979.965400</td>\n",
       "      <td>3</td>\n",
       "    </tr>\n",
       "  </tbody>\n",
       "</table>\n",
       "<p>10000 rows × 4 columns</p>\n",
       "</div>"
      ],
      "text/plain": [
       "       Unnamed: 0  user_id       metric  day\n",
       "2            2995     2995  6742.954000    5\n",
       "3           15885     5885  8998.112105   15\n",
       "4            6121     6121  2281.206200    1\n",
       "5            7677     7677  8589.278300    7\n",
       "6            3539     3539  3959.062100    9\n",
       "...           ...      ...          ...  ...\n",
       "19991        2455     2455  4327.163100    5\n",
       "19994        4113     4113  5359.062900    3\n",
       "19995       14257     4257  6853.369866   17\n",
       "19997       10317      317  5002.546357   17\n",
       "19998        8303     8303  1979.965400    3\n",
       "\n",
       "[10000 rows x 4 columns]"
      ]
     },
     "execution_count": 8,
     "metadata": {},
     "output_type": "execute_result"
    }
   ],
   "source": [
    "df[df.day % 2 == 1]"
   ]
  },
  {
   "cell_type": "markdown",
   "metadata": {},
   "source": [
    "#### видим что одинаковое количетсво четных и нечетных дней"
   ]
  },
  {
   "cell_type": "markdown",
   "metadata": {},
   "source": [
    "### Мощность и корректность"
   ]
  },
  {
   "cell_type": "markdown",
   "metadata": {},
   "source": [
    "#### A/A test"
   ]
  },
  {
   "cell_type": "code",
   "execution_count": 57,
   "metadata": {},
   "outputs": [
    {
     "name": "stdout",
     "output_type": "stream",
     "text": [
      "0.0533\n"
     ]
    }
   ],
   "source": [
    "p_values = []\n",
    "for _ in range(10000):\n",
    "    group_A = df[df.day % 2 == 0]['metric'].sample(n = 100).values\n",
    "    group_B = df[df.day % 2 == 1]['metric'].sample(n = 100).values\n",
    "    p = scipy.stats.ttest_ind(group_A, group_B).pvalue\n",
    "    p_values.append(p)\n",
    "p_values = np.array(p_values)\n",
    "print(p_values[p_values < 0.05].shape[0] / p_values.shape[0])"
   ]
  },
  {
   "cell_type": "code",
   "execution_count": 58,
   "metadata": {},
   "outputs": [
    {
     "data": {
      "text/plain": [
       "(array([1006., 1014., 1051.,  928., 1016.,  990., 1000.,  993.,  988.,\n",
       "        1014.]),\n",
       " array([2.24433234e-04, 1.00201969e-01, 2.00179506e-01, 3.00157042e-01,\n",
       "        4.00134578e-01, 5.00112114e-01, 6.00089650e-01, 7.00067186e-01,\n",
       "        8.00044723e-01, 9.00022259e-01, 9.99999795e-01]),\n",
       " <a list of 10 Patch objects>)"
      ]
     },
     "execution_count": 58,
     "metadata": {},
     "output_type": "execute_result"
    },
    {
     "data": {
      "image/png": "[encoded data removed]",
      "text/plain": [
       "<Figure size 432x288 with 1 Axes>"
      ]
     },
     "metadata": {
      "needs_background": "light"
     },
     "output_type": "display_data"
    }
   ],
   "source": [
    "plt.hist(p_values)"
   ]
  },
  {
   "cell_type": "markdown",
   "metadata": {},
   "source": [
    "##### Критерий применять можно, распределение корректное"
   ]
  },
  {
   "cell_type": "markdown",
   "metadata": {},
   "source": [
    "### A/B тест на максимум дней с эффектом 2%"
   ]
  },
  {
   "cell_type": "code",
   "execution_count": 63,
   "metadata": {},
   "outputs": [
    {
     "name": "stdout",
     "output_type": "stream",
     "text": [
      "0.0651\n"
     ]
    }
   ],
   "source": [
    "p_values = []\n",
    "for _ in range(10000):\n",
    "    group_A = df[df.day % 2 == 0]['metric'].sample(n = 100).values\n",
    "    group_B = df[df.day % 2 == 1]['metric'].sample(n = 100).values*1.02\n",
    "    p = scipy.stats.ttest_ind(group_A, group_B, equal_var=False).pvalue\n",
    "    p_values.append(p)\n",
    "p_values = np.array(p_values)\n",
    "print(p_values[p_values < 0.05].shape[0] / p_values.shape[0])"
   ]
  },
  {
   "cell_type": "code",
   "execution_count": 64,
   "metadata": {},
   "outputs": [
    {
     "data": {
      "text/plain": [
       "(array([1235., 1121., 1047., 1020.,  977.,  978.,  901.,  929.,  875.,\n",
       "         917.]),\n",
       " array([2.99190679e-05, 1.00022432e-01, 2.00014944e-01, 3.00007457e-01,\n",
       "        3.99999970e-01, 4.99992483e-01, 5.99984995e-01, 6.99977508e-01,\n",
       "        7.99970021e-01, 8.99962533e-01, 9.99955046e-01]),\n",
       " <a list of 10 Patch objects>)"
      ]
     },
     "execution_count": 64,
     "metadata": {},
     "output_type": "execute_result"
    },
    {
     "data": {
      "image/png": "[encoded data removed]",
      "text/plain": [
       "<Figure size 432x288 with 1 Axes>"
      ]
     },
     "metadata": {
      "needs_background": "light"
     },
     "output_type": "display_data"
    }
   ],
   "source": [
    "plt.hist(p_values)"
   ]
  },
  {
   "cell_type": "markdown",
   "metadata": {},
   "source": [
    "#### попробуем другой критерий"
   ]
  },
  {
   "cell_type": "code",
   "execution_count": 82,
   "metadata": {},
   "outputs": [
    {
     "name": "stdout",
     "output_type": "stream",
     "text": [
      "0.0619\n"
     ]
    },
    {
     "data": {
      "text/plain": [
       "(array([1161., 1052., 1030.,  994., 1032.,  932.,  965.,  967.,  886.,\n",
       "         981.]),\n",
       " array([5.98843024e-05, 9.99564188e-02, 1.99852953e-01, 2.99749488e-01,\n",
       "        3.99646022e-01, 4.99542557e-01, 5.99439091e-01, 6.99335626e-01,\n",
       "        7.99232160e-01, 8.99128695e-01, 9.99025229e-01]),\n",
       " <a list of 10 Patch objects>)"
      ]
     },
     "execution_count": 82,
     "metadata": {},
     "output_type": "execute_result"
    },
    {
     "data": {
      "image/png": "[encoded data removed]",
      "text/plain": [
       "<Figure size 432x288 with 1 Axes>"
      ]
     },
     "metadata": {
      "needs_background": "light"
     },
     "output_type": "display_data"
    }
   ],
   "source": [
    "p_values = []\n",
    "iters = 10000\n",
    "for _ in range(iters):\n",
    "    group_A = df[df.day % 2 == 0]['metric'].sample(n = 100).values\n",
    "    group_B = df[df.day % 2 == 1]['metric'].sample(n = 100).values*1.02\n",
    "    p = scipy.stats.mannwhitneyu(group_A, group_B,alternative='two-sided').pvalue\n",
    "    p_values.append(p)\n",
    "p_values = np.array(p_values)\n",
    "print(p_values[p_values < 0.05].shape[0] / p_values.shape[0])\n",
    "plt.hist(p_values)"
   ]
  },
  {
   "cell_type": "markdown",
   "metadata": {},
   "source": [
    "#### p_values теперь распределно неравномерно, но критерий сработал  всего в 6,5 процентах случаев, этого явно недостаточно\n",
    "задетектить 2% не получится"
   ]
  },
  {
   "cell_type": "markdown",
   "metadata": {},
   "source": [
    "### попробуем задетектить эффект в 22%"
   ]
  },
  {
   "cell_type": "code",
   "execution_count": 78,
   "metadata": {},
   "outputs": [
    {
     "name": "stdout",
     "output_type": "stream",
     "text": [
      "0.8513\n"
     ]
    },
    {
     "data": {
      "text/plain": [
       "(array([9148.,  436.,  185.,   89.,   48.,   34.,   17.,   18.,   11.,\n",
       "          14.]),\n",
       " array([6.08981466e-11, 9.98611854e-02, 1.99722371e-01, 2.99583556e-01,\n",
       "        3.99444741e-01, 4.99305927e-01, 5.99167112e-01, 6.99028297e-01,\n",
       "        7.98889483e-01, 8.98750668e-01, 9.98611853e-01]),\n",
       " <a list of 10 Patch objects>)"
      ]
     },
     "execution_count": 78,
     "metadata": {},
     "output_type": "execute_result"
    },
    {
     "data": {
      "image/png": "[encoded data removed]",
      "text/plain": [
       "<Figure size 432x288 with 1 Axes>"
      ]
     },
     "metadata": {
      "needs_background": "light"
     },
     "output_type": "display_data"
    }
   ],
   "source": [
    "p_values = []\n",
    "for _ in range(10000):\n",
    "    group_A = df[df.day % 2 == 0]['metric'].sample(n = 100).values\n",
    "    group_B = df[df.day % 2 == 1]['metric'].sample(n = 100).values*1.22\n",
    "    p = scipy.stats.ttest_ind(group_A, group_B, equal_var=False).pvalue\n",
    "    p_values.append(p)\n",
    "p_values = np.array(p_values)\n",
    "print(p_values[p_values < 0.05].shape[0] / p_values.shape[0])\n",
    "plt.hist(p_values)"
   ]
  },
  {
   "cell_type": "markdown",
   "metadata": {},
   "source": [
    "## 0.9751 больше 0.8 такой эффект задетектить мы можем"
   ]
  },
  {
   "cell_type": "markdown",
   "metadata": {},
   "source": [
    "### теперь попробуем задетектить эффект при меньшем количестве дней, идем с наименьшего пока не дойдем до значения больше 0.8"
   ]
  },
  {
   "cell_type": "code",
   "execution_count": 81,
   "metadata": {},
   "outputs": [
    {
     "name": "stdout",
     "output_type": "stream",
     "text": [
      "0.8454\n"
     ]
    },
    {
     "data": {
      "text/plain": [
       "(array([9.096e+03, 4.690e+02, 1.980e+02, 9.200e+01, 4.800e+01, 2.700e+01,\n",
       "        3.000e+01, 1.800e+01, 1.800e+01, 4.000e+00]),\n",
       " array([2.08547133e-13, 9.89106158e-02, 1.97821232e-01, 2.96731847e-01,\n",
       "        3.95642463e-01, 4.94553079e-01, 5.93463695e-01, 6.92374310e-01,\n",
       "        7.91284926e-01, 8.90195542e-01, 9.89106158e-01]),\n",
       " <a list of 10 Patch objects>)"
      ]
     },
     "execution_count": 81,
     "metadata": {},
     "output_type": "execute_result"
    },
    {
     "data": {
      "image/png": "[encoded data removed]",
      "text/plain": [
       "<Figure size 432x288 with 1 Axes>"
      ]
     },
     "metadata": {
      "needs_background": "light"
     },
     "output_type": "display_data"
    }
   ],
   "source": [
    "p_values = []\n",
    "for _ in range(10000):\n",
    "    _df = df[df.day < 8]\n",
    "    group_A = _df[_df.day % 2 == 0]['metric'].sample(n = 100).values\n",
    "    group_B = _df[_df.day % 2 == 1]['metric'].sample(n = 100).values*1.22\n",
    "    p = scipy.stats.ttest_ind(group_A, group_B, equal_var=False).pvalue\n",
    "    p_values.append(p)\n",
    "p_values = np.array(p_values)\n",
    "print(p_values[p_values < 0.05].shape[0] / p_values.shape[0])\n",
    "plt.hist(p_values)"
   ]
  },
  {
   "cell_type": "markdown",
   "metadata": {},
   "source": [
    "#### можно задетектить за 8 дней"
   ]
  },
  {
   "cell_type": "markdown",
   "metadata": {},
   "source": [
    "#### Задетектить 2% у меня не получилось даже за 20 дней, речи о 3 дней и нет, для более успешного тестирования нужно подбирать более мощные критерии и брать больше данных, возможно я что-то упустил"
   ]
  }
 ],
 "metadata": {
  "kernelspec": {
   "display_name": "Python 3",
   "language": "python",
   "name": "python3"
  },
  "language_info": {
   "codemirror_mode": {
    "name": "ipython",
    "version": 3
   },
   "file_extension": ".py",
   "mimetype": "text/x-python",
   "name": "python",
   "nbconvert_exporter": "python",
   "pygments_lexer": "ipython3",
   "version": "3.7.6"
  }
 },
 "nbformat": 4,
 "nbformat_minor": 4
}
